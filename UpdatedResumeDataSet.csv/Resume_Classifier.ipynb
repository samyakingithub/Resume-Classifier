{
 "cells": [
  {
   "cell_type": "code",
   "execution_count": 1,
   "id": "b8018b86",
   "metadata": {},
   "outputs": [],
   "source": [
    "import pandas as pd\n",
    "import numpy as np\n",
    "from sklearn.svm import SVC\n",
    "from sklearn.neighbors import KNeighborsClassifier\n",
    "from sklearn.ensemble import RandomForestClassifier\n",
    "from sklearn.model_selection import train_test_split\n",
    "import pickle"
   ]
  },
  {
   "cell_type": "code",
   "execution_count": 2,
   "id": "c0267866",
   "metadata": {},
   "outputs": [
    {
     "data": {
      "text/html": [
       "<div>\n",
       "<style scoped>\n",
       "    .dataframe tbody tr th:only-of-type {\n",
       "        vertical-align: middle;\n",
       "    }\n",
       "\n",
       "    .dataframe tbody tr th {\n",
       "        vertical-align: top;\n",
       "    }\n",
       "\n",
       "    .dataframe thead th {\n",
       "        text-align: right;\n",
       "    }\n",
       "</style>\n",
       "<table border=\"1\" class=\"dataframe\">\n",
       "  <thead>\n",
       "    <tr style=\"text-align: right;\">\n",
       "      <th></th>\n",
       "      <th>Category</th>\n",
       "      <th>Resume</th>\n",
       "    </tr>\n",
       "  </thead>\n",
       "  <tbody>\n",
       "    <tr>\n",
       "      <th>0</th>\n",
       "      <td>Data Science</td>\n",
       "      <td>Skills * Programming Languages: Python (pandas...</td>\n",
       "    </tr>\n",
       "    <tr>\n",
       "      <th>1</th>\n",
       "      <td>Data Science</td>\n",
       "      <td>Education Details \\r\\nMay 2013 to May 2017 B.E...</td>\n",
       "    </tr>\n",
       "    <tr>\n",
       "      <th>2</th>\n",
       "      <td>Data Science</td>\n",
       "      <td>Areas of Interest Deep Learning, Control Syste...</td>\n",
       "    </tr>\n",
       "    <tr>\n",
       "      <th>3</th>\n",
       "      <td>Data Science</td>\n",
       "      <td>Skills â¢ R â¢ Python â¢ SAP HANA â¢ Table...</td>\n",
       "    </tr>\n",
       "    <tr>\n",
       "      <th>4</th>\n",
       "      <td>Data Science</td>\n",
       "      <td>Education Details \\r\\n MCA   YMCAUST,  Faridab...</td>\n",
       "    </tr>\n",
       "    <tr>\n",
       "      <th>...</th>\n",
       "      <td>...</td>\n",
       "      <td>...</td>\n",
       "    </tr>\n",
       "    <tr>\n",
       "      <th>957</th>\n",
       "      <td>Testing</td>\n",
       "      <td>Computer Skills: â¢ Proficient in MS office (...</td>\n",
       "    </tr>\n",
       "    <tr>\n",
       "      <th>958</th>\n",
       "      <td>Testing</td>\n",
       "      <td>â Willingness to accept the challenges. â ...</td>\n",
       "    </tr>\n",
       "    <tr>\n",
       "      <th>959</th>\n",
       "      <td>Testing</td>\n",
       "      <td>PERSONAL SKILLS â¢ Quick learner, â¢ Eagerne...</td>\n",
       "    </tr>\n",
       "    <tr>\n",
       "      <th>960</th>\n",
       "      <td>Testing</td>\n",
       "      <td>COMPUTER SKILLS &amp; SOFTWARE KNOWLEDGE MS-Power ...</td>\n",
       "    </tr>\n",
       "    <tr>\n",
       "      <th>961</th>\n",
       "      <td>Testing</td>\n",
       "      <td>Skill Set OS Windows XP/7/8/8.1/10 Database MY...</td>\n",
       "    </tr>\n",
       "  </tbody>\n",
       "</table>\n",
       "<p>962 rows × 2 columns</p>\n",
       "</div>"
      ],
      "text/plain": [
       "         Category                                             Resume\n",
       "0    Data Science  Skills * Programming Languages: Python (pandas...\n",
       "1    Data Science  Education Details \\r\\nMay 2013 to May 2017 B.E...\n",
       "2    Data Science  Areas of Interest Deep Learning, Control Syste...\n",
       "3    Data Science  Skills â¢ R â¢ Python â¢ SAP HANA â¢ Table...\n",
       "4    Data Science  Education Details \\r\\n MCA   YMCAUST,  Faridab...\n",
       "..            ...                                                ...\n",
       "957       Testing  Computer Skills: â¢ Proficient in MS office (...\n",
       "958       Testing  â Willingness to accept the challenges. â ...\n",
       "959       Testing  PERSONAL SKILLS â¢ Quick learner, â¢ Eagerne...\n",
       "960       Testing  COMPUTER SKILLS & SOFTWARE KNOWLEDGE MS-Power ...\n",
       "961       Testing  Skill Set OS Windows XP/7/8/8.1/10 Database MY...\n",
       "\n",
       "[962 rows x 2 columns]"
      ]
     },
     "execution_count": 2,
     "metadata": {},
     "output_type": "execute_result"
    }
   ],
   "source": [
    "df = pd.read_csv('UpdatedResumeDataSet.csv')\n",
    "df"
   ]
  },
  {
   "cell_type": "code",
   "execution_count": 3,
   "id": "ad969a61",
   "metadata": {},
   "outputs": [
    {
     "name": "stdout",
     "output_type": "stream",
     "text": [
      "Data Science\n",
      "HR\n",
      "Advocate\n",
      "Arts\n",
      "Web Designing\n",
      "Mechanical Engineer\n",
      "Sales\n",
      "Health and fitness\n",
      "Civil Engineer\n",
      "Java Developer\n",
      "Business Analyst\n",
      "SAP Developer\n",
      "Automation Testing\n",
      "Electrical Engineering\n",
      "Operations Manager\n",
      "Python Developer\n",
      "DevOps Engineer\n",
      "Network Security Engineer\n",
      "PMO\n",
      "Database\n",
      "Hadoop\n",
      "ETL Developer\n",
      "DotNet Developer\n",
      "Blockchain\n",
      "Testing\n"
     ]
    }
   ],
   "source": [
    "for i in range(len(df['Category'].unique())):\n",
    "    print(df['Category'].unique()[i])"
   ]
  },
  {
   "cell_type": "code",
   "execution_count": 4,
   "id": "71bacc47",
   "metadata": {},
   "outputs": [
    {
     "name": "stdout",
     "output_type": "stream",
     "text": [
      "Category    0\n",
      "Resume      0\n",
      "dtype: int64\n"
     ]
    }
   ],
   "source": [
    "print(df.isnull().sum())"
   ]
  },
  {
   "cell_type": "code",
   "execution_count": 5,
   "id": "c7762b4f",
   "metadata": {},
   "outputs": [],
   "source": [
    "df['Resume'] = df['Resume'].apply(lambda x:x.lower())\n",
    "for i in range(len(df)):\n",
    "    lw=[]\n",
    "    for j in df['Resume'][i].split():\n",
    "        if len(j)>3:                  \n",
    "            lw.append(j)\n",
    "    df['Resume'][i]=\" \".join(lw)"
   ]
  },
  {
   "cell_type": "code",
   "execution_count": 6,
   "id": "640c01a2",
   "metadata": {},
   "outputs": [
    {
     "data": {
      "text/plain": [
       "0      skills programming languages: python (pandas, ...\n",
       "1      education details 2013 2017 uit-rgpv data scie...\n",
       "2      areas interest deep learning, control system d...\n",
       "3      skills python hana tableau hana hana lumira li...\n",
       "4      education details ymcaust, faridabad, haryana ...\n",
       "                             ...                        \n",
       "957    computer skills: proficient office (word, basi...\n",
       "958    willingness accept challenges. positive thinki...\n",
       "959    personal skills quick learner, eagerness learn...\n",
       "960    computer skills software knowledge ms-power po...\n",
       "961    skill windows xp/7/8/8.1/10 database mysql, se...\n",
       "Name: Resume, Length: 962, dtype: object"
      ]
     },
     "execution_count": 6,
     "metadata": {},
     "output_type": "execute_result"
    }
   ],
   "source": [
    "df.Resume"
   ]
  },
  {
   "cell_type": "code",
   "execution_count": 7,
   "id": "b7793992",
   "metadata": {},
   "outputs": [
    {
     "name": "stderr",
     "output_type": "stream",
     "text": [
      "C:\\Users\\Sangram\\AppData\\Local\\Temp\\ipykernel_20884\\2980719137.py:5: FutureWarning: The default value of regex will change from True to False in a future version. In addition, single character regular expressions will *not* be treated as literal strings when regex=True.\n",
      "  df['Resume'] = df['Resume'].str.replace(p, '')\n"
     ]
    }
   ],
   "source": [
    "ps = list(\";?.:!,\")\n",
    "df['Resume'] = df['Resume']\n",
    "\n",
    "for p in ps:   \n",
    "    df['Resume'] = df['Resume'].str.replace(p, '')"
   ]
  },
  {
   "cell_type": "code",
   "execution_count": 8,
   "id": "52e1c822",
   "metadata": {},
   "outputs": [
    {
     "data": {
      "text/plain": [
       "0      skills programming languages python (pandas nu...\n",
       "1      education details 2013 2017 uit-rgpv data scie...\n",
       "2      areas interest deep learning control system de...\n",
       "3      skills python hana tableau hana hana lumira li...\n",
       "4      education details ymcaust faridabad haryana da...\n",
       "                             ...                        \n",
       "957    computer skills proficient office (word basic ...\n",
       "958    willingness accept challenges positive thinkin...\n",
       "959    personal skills quick learner eagerness learn ...\n",
       "960    computer skills software knowledge ms-power po...\n",
       "961    skill windows xp/7/8/81/10 database mysql serv...\n",
       "Name: Resume, Length: 962, dtype: object"
      ]
     },
     "execution_count": 8,
     "metadata": {},
     "output_type": "execute_result"
    }
   ],
   "source": [
    "df.Resume"
   ]
  },
  {
   "cell_type": "code",
   "execution_count": 9,
   "id": "94da8f3d",
   "metadata": {},
   "outputs": [],
   "source": [
    "df['Resume'] = df['Resume'].str.replace(\"    \", \" \")\n",
    "df['Resume'] = df['Resume'].str.replace('\"', '')\n",
    "df['Resume'] = df['Resume'].apply(lambda x: x.replace('\\t', ' '))\n",
    "df['Resume'] = df['Resume'].str.replace(\"'s\", \"\")\n",
    "df['Resume'] = df['Resume'].apply(lambda x: x.replace('\\n', ' '))"
   ]
  },
  {
   "cell_type": "code",
   "execution_count": 10,
   "id": "fd2e3ff1",
   "metadata": {},
   "outputs": [
    {
     "data": {
      "text/plain": [
       "0      skills programming languages python (pandas nu...\n",
       "1      education details 2013 2017 uit-rgpv data scie...\n",
       "2      areas interest deep learning control system de...\n",
       "3      skills python hana tableau hana hana lumira li...\n",
       "4      education details ymcaust faridabad haryana da...\n",
       "                             ...                        \n",
       "957    computer skills proficient office (word basic ...\n",
       "958    willingness accept challenges positive thinkin...\n",
       "959    personal skills quick learner eagerness learn ...\n",
       "960    computer skills software knowledge ms-power po...\n",
       "961    skill windows xp/7/8/81/10 database mysql serv...\n",
       "Name: Resume, Length: 962, dtype: object"
      ]
     },
     "execution_count": 10,
     "metadata": {},
     "output_type": "execute_result"
    }
   ],
   "source": [
    "df.Resume"
   ]
  },
  {
   "cell_type": "code",
   "execution_count": 11,
   "id": "a143baee",
   "metadata": {},
   "outputs": [
    {
     "name": "stdout",
     "output_type": "stream",
     "text": [
      "Requirement already satisfied: nltk in c:\\users\\sangram\\desktop\\sample_project\\env\\lib\\site-packages (3.8.1)\n",
      "Requirement already satisfied: click in c:\\users\\sangram\\desktop\\sample_project\\env\\lib\\site-packages (from nltk) (8.1.3)\n",
      "Requirement already satisfied: tqdm in c:\\users\\sangram\\desktop\\sample_project\\env\\lib\\site-packages (from nltk) (4.64.1)\n",
      "Requirement already satisfied: regex>=2021.8.3 in c:\\users\\sangram\\desktop\\sample_project\\env\\lib\\site-packages (from nltk) (2022.10.31)\n",
      "Requirement already satisfied: joblib in c:\\users\\sangram\\desktop\\sample_project\\env\\lib\\site-packages (from nltk) (1.1.0)\n",
      "Requirement already satisfied: colorama in c:\\users\\sangram\\appdata\\roaming\\python\\python310\\site-packages (from click->nltk) (0.4.5)\n",
      "Note: you may need to restart the kernel to use updated packages.\n"
     ]
    }
   ],
   "source": [
    "pip install nltk"
   ]
  },
  {
   "cell_type": "code",
   "execution_count": 12,
   "id": "7221b760",
   "metadata": {},
   "outputs": [],
   "source": [
    "import nltk"
   ]
  },
  {
   "cell_type": "code",
   "execution_count": 13,
   "id": "622fb51f",
   "metadata": {},
   "outputs": [],
   "source": [
    "from nltk.corpus import stopwords\n",
    "from nltk.stem import PorterStemmer\n",
    "from nltk.stem import WordNetLemmatizer"
   ]
  },
  {
   "cell_type": "code",
   "execution_count": 14,
   "id": "645b5090",
   "metadata": {},
   "outputs": [
    {
     "name": "stderr",
     "output_type": "stream",
     "text": [
      "[nltk_data] Downloading package punkt to\n",
      "[nltk_data]     C:\\Users\\Sangram\\AppData\\Roaming\\nltk_data...\n",
      "[nltk_data]   Package punkt is already up-to-date!\n",
      "[nltk_data] Downloading package wordnet to\n",
      "[nltk_data]     C:\\Users\\Sangram\\AppData\\Roaming\\nltk_data...\n",
      "[nltk_data]   Package wordnet is already up-to-date!\n",
      "[nltk_data] Downloading package omw-1.4 to\n",
      "[nltk_data]     C:\\Users\\Sangram\\AppData\\Roaming\\nltk_data...\n",
      "[nltk_data]   Package omw-1.4 is already up-to-date!\n"
     ]
    },
    {
     "data": {
      "text/plain": [
       "True"
      ]
     },
     "execution_count": 14,
     "metadata": {},
     "output_type": "execute_result"
    }
   ],
   "source": [
    "nltk.download('punkt')\n",
    "nltk.download('wordnet')\n",
    "nltk.download('omw-1.4')"
   ]
  },
  {
   "cell_type": "code",
   "execution_count": 15,
   "id": "cafcec31",
   "metadata": {},
   "outputs": [],
   "source": [
    "wl = WordNetLemmatizer()\n",
    "nr = len(df)\n",
    "lis = []\n",
    "for r in range(0, nr):\n",
    "    ll = []\n",
    "    t = df.loc[r]['Resume']\n",
    "    tw = str(t).split(\" \")\n",
    "    for w in tw:\n",
    "        ll.append(wl.lemmatize(w, pos=\"v\"))\n",
    "    lt = \" \".join(ll)\n",
    "    lis.append(lt)"
   ]
  },
  {
   "cell_type": "code",
   "execution_count": 16,
   "id": "65d502e5",
   "metadata": {},
   "outputs": [],
   "source": [
    "df['Resume'] = lis"
   ]
  },
  {
   "cell_type": "code",
   "execution_count": 17,
   "id": "fe4cde24",
   "metadata": {},
   "outputs": [
    {
     "data": {
      "text/plain": [
       "0      skills program languages python (pandas numpy ...\n",
       "1      education detail 2013 2017 uit-rgpv data scien...\n",
       "2      areas interest deep learn control system desig...\n",
       "3      skills python hana tableau hana hana lumira li...\n",
       "4      education detail ymcaust faridabad haryana dat...\n",
       "                             ...                        \n",
       "957    computer skills proficient office (word basic ...\n",
       "958    willingness accept challenge positive think go...\n",
       "959    personal skills quick learner eagerness learn ...\n",
       "960    computer skills software knowledge ms-power po...\n",
       "961    skill windows xp/7/8/81/10 database mysql serv...\n",
       "Name: Resume, Length: 962, dtype: object"
      ]
     },
     "execution_count": 17,
     "metadata": {},
     "output_type": "execute_result"
    }
   ],
   "source": [
    "df.Resume"
   ]
  },
  {
   "cell_type": "code",
   "execution_count": 18,
   "id": "2794931c",
   "metadata": {},
   "outputs": [],
   "source": [
    "from sklearn.preprocessing import LabelEncoder\n",
    "from sklearn.feature_extraction.text import CountVectorizer\n",
    "le = LabelEncoder()\n",
    "df['Category'] = le.fit_transform(df['Category'])\n",
    "cv = CountVectorizer(max_features = 2500)\n",
    "cv.fit(df['Resume'])\n",
    "X = cv.transform(df['Resume']).toarray()\n",
    "y = df['Category']"
   ]
  },
  {
   "cell_type": "code",
   "execution_count": 19,
   "id": "c08b764e",
   "metadata": {},
   "outputs": [
    {
     "name": "stdout",
     "output_type": "stream",
     "text": [
      "[[0 0 0 ... 0 0 0]\n",
      " [0 0 0 ... 0 0 0]\n",
      " [0 0 0 ... 0 0 0]\n",
      " ...\n",
      " [0 0 0 ... 0 0 0]\n",
      " [0 0 0 ... 0 0 0]\n",
      " [0 0 1 ... 0 0 0]]\n",
      "0       6\n",
      "1       6\n",
      "2       6\n",
      "3       6\n",
      "4       6\n",
      "       ..\n",
      "957    23\n",
      "958    23\n",
      "959    23\n",
      "960    23\n",
      "961    23\n",
      "Name: Category, Length: 962, dtype: int32\n"
     ]
    }
   ],
   "source": [
    "print(X)\n",
    "print(y)"
   ]
  },
  {
   "cell_type": "code",
   "execution_count": 20,
   "id": "594c9b85",
   "metadata": {},
   "outputs": [],
   "source": [
    "# from sklearn.preprocessing import LabelEncoder\n",
    "# from sklearn.feature_extraction.text import CountVectorizer\n",
    "\n",
    "# # Assume the encoded data is in the variable 'encoded_data'\n",
    "# decoded_data = LabelEncoder().fit_transform(X)\n",
    "\n",
    "# # Now you can decode the data\n",
    "# original_data = LabelEncoder().inverse_transform(decoded_data)\n",
    "\n",
    "# df['Category'] = original_data\n",
    "\n",
    "# cv = CountVectorizer(max_features=2500)\n",
    "# X = cv.fit_transform(df['Resume']).toarray()\n",
    "# y = df['Category']"
   ]
  },
  {
   "cell_type": "code",
   "execution_count": 21,
   "id": "c00e8d14",
   "metadata": {},
   "outputs": [],
   "source": [
    "X_train, X_test, y_train, y_test = train_test_split(X, y, test_size = 0.3, stratify=y, random_state = 42)"
   ]
  },
  {
   "cell_type": "code",
   "execution_count": 22,
   "id": "098d580d",
   "metadata": {},
   "outputs": [],
   "source": [
    "from sklearn import tree\n",
    "from sklearn.metrics import accuracy_score"
   ]
  },
  {
   "cell_type": "code",
   "execution_count": 23,
   "id": "a7dba67f",
   "metadata": {},
   "outputs": [
    {
     "name": "stdout",
     "output_type": "stream",
     "text": [
      "accuracy is:  0.9826989619377162\n",
      "[20  4 14 24  8 16  4 19  7  7  6 21  4  7  8 24 15 12  9 14 17  0 22  5\n",
      " 14 10  5  1  2  3  1  7 14 12 12 13 20 15 10 23 12  4 22 10 13 22 16 13\n",
      "  7  3  3 22  8 19  7 11 15 21  8 24 10  8  2 19 23 13  3 12 11 22 24 16\n",
      "  3  3 15  6  6 24 10 15  7  9  4  5 19 13 17 23 24  6  2 15 18  1 13  8\n",
      " 23 23 11  1 16 15  0 23 21 24 12 23 20 11 22 23 10 13 15  6 14 21 15 17\n",
      " 14 11 16 15 19 13  7 20 15 12  6 10  5 22 10 23  8 15 10 22  8 15  0  9\n",
      " 22  8  6  8 20 12  8 18  4 16 15 13 10 23  4  1 22 21 10  8 15 20 20 15\n",
      " 18 13 18  2 22 11  6 15 19  1 23 20 24 14 18  5 14 17 12 23 23 16 15 23\n",
      " 18 20  5 21 24 23  1  6  9 13 15 24  7 21 19  2 24  2  2  6 15 16 15 23\n",
      " 15 12 23  0 12 17 16 14  0 21 16 10 18  5  2 19 21 16 12  8 17  3 18 23\n",
      "  8 18 23 12  3 11  8 15 23 11  1  4 24 13 21 18  0 20  3  6  8 13  3  3\n",
      "  1 20 22 15 18 15 24 23 18 11  2 17  1  1 16 19 21 17 24  3 20  6 20 20\n",
      "  7]\n",
      "0       6\n",
      "1       6\n",
      "2       6\n",
      "3       6\n",
      "4       6\n",
      "       ..\n",
      "957    23\n",
      "958    23\n",
      "959    23\n",
      "960    23\n",
      "961    23\n",
      "Name: Category, Length: 962, dtype: int32\n"
     ]
    }
   ],
   "source": [
    "clf = tree.DecisionTreeClassifier()\n",
    "clf = clf.fit(X_train, y_train)\n",
    "yp = clf.predict(X_test)\n",
    "acc = accuracy_score(y_test, yp)\n",
    "print(\"accuracy is: \",acc)\n",
    "print(yp)\n",
    "print(df['Category'])"
   ]
  },
  {
   "cell_type": "code",
   "execution_count": 24,
   "id": "cc7846be",
   "metadata": {},
   "outputs": [
    {
     "name": "stdout",
     "output_type": "stream",
     "text": [
      "Predicted output:  [20  4 14 24  8 16  4 19  7  7  6 21  4  7  8 24 15 12  9 14 17  0 22  5\n",
      " 14 10  5  1  2  3  1  7 14 12 12 13 20 15 10 23 12  4 22 10 13 22 16 13\n",
      "  7  3  3 22  8 19  7 11 15 21  8 24 10  8  2 19 23 13  3 12 11 22 24 16\n",
      "  3  3 15  6  6 24 10 15  7  9  4  5 19 13 17 23 24  6  2 15 18  1 13  8\n",
      " 23 23 11  1 16 15  0 23 21 24 12 23 20 11 22 23 10 13 15  6 14 21 15 17\n",
      " 14 11 16 15 19 13  7 20 15 12  6 10  5 22 10 23  8 15 10 22  8 15  0  9\n",
      " 22  8  6  8 20 12  8 18  4 16 15 13 10 23  4  1 22 21 10  8 15 20 20 15\n",
      " 18 13 18  2 22 11  6 15 19  1 23 20 24 14 18  5 14 17 12 23 23 16 15 23\n",
      " 18 20  5 21 24 23  1  6  9 13 15 24  7 21 19  2 24  2  2  6 15 16 15 23\n",
      " 15 12 23  0 12 17 16 14  0 21 16 10 18  5  2 19 21 16 12  8 17  3 18 23\n",
      "  8 18 23 12  3 11  8 15 23 11  1  4 24 13 21 18  0 20  3  6  8 13  3  3\n",
      "  1 20 22 15 18 15 24 23 18 11  2 17  1  1 16 19 21 17 24  3 20  6 20 20\n",
      "  7]\n"
     ]
    }
   ],
   "source": [
    "yp = clf.predict(X_test)\n",
    "print(\"Predicted output: \", yp)"
   ]
  },
  {
   "cell_type": "code",
   "execution_count": 25,
   "id": "d74c8a1e",
   "metadata": {},
   "outputs": [
    {
     "name": "stdout",
     "output_type": "stream",
     "text": [
      "Predicted labels:  ['Python Developer' 'Business Analyst' 'Health and fitness'\n",
      " 'Web Designing' 'DevOps Engineer' 'Mechanical Engineer'\n",
      " 'Business Analyst' 'PMO' 'Database' 'Database' 'Data Science'\n",
      " 'SAP Developer' 'Business Analyst' 'Database' 'DevOps Engineer'\n",
      " 'Web Designing' 'Java Developer' 'HR' 'DotNet Developer'\n",
      " 'Health and fitness' 'Network Security Engineer' 'Advocate' 'Sales'\n",
      " 'Civil Engineer' 'Health and fitness' 'ETL Developer' 'Civil Engineer'\n",
      " 'Arts' 'Automation Testing' 'Blockchain' 'Arts' 'Database'\n",
      " 'Health and fitness' 'HR' 'HR' 'Hadoop' 'Python Developer'\n",
      " 'Java Developer' 'ETL Developer' 'Testing' 'HR' 'Business Analyst'\n",
      " 'Sales' 'ETL Developer' 'Hadoop' 'Sales' 'Mechanical Engineer' 'Hadoop'\n",
      " 'Database' 'Blockchain' 'Blockchain' 'Sales' 'DevOps Engineer' 'PMO'\n",
      " 'Database' 'Electrical Engineering' 'Java Developer' 'SAP Developer'\n",
      " 'DevOps Engineer' 'Web Designing' 'ETL Developer' 'DevOps Engineer'\n",
      " 'Automation Testing' 'PMO' 'Testing' 'Hadoop' 'Blockchain' 'HR'\n",
      " 'Electrical Engineering' 'Sales' 'Web Designing' 'Mechanical Engineer'\n",
      " 'Blockchain' 'Blockchain' 'Java Developer' 'Data Science' 'Data Science'\n",
      " 'Web Designing' 'ETL Developer' 'Java Developer' 'Database'\n",
      " 'DotNet Developer' 'Business Analyst' 'Civil Engineer' 'PMO' 'Hadoop'\n",
      " 'Network Security Engineer' 'Testing' 'Web Designing' 'Data Science'\n",
      " 'Automation Testing' 'Java Developer' 'Operations Manager' 'Arts'\n",
      " 'Hadoop' 'DevOps Engineer' 'Testing' 'Testing' 'Electrical Engineering'\n",
      " 'Arts' 'Mechanical Engineer' 'Java Developer' 'Advocate' 'Testing'\n",
      " 'SAP Developer' 'Web Designing' 'HR' 'Testing' 'Python Developer'\n",
      " 'Electrical Engineering' 'Sales' 'Testing' 'ETL Developer' 'Hadoop'\n",
      " 'Java Developer' 'Data Science' 'Health and fitness' 'SAP Developer'\n",
      " 'Java Developer' 'Network Security Engineer' 'Health and fitness'\n",
      " 'Electrical Engineering' 'Mechanical Engineer' 'Java Developer' 'PMO'\n",
      " 'Hadoop' 'Database' 'Python Developer' 'Java Developer' 'HR'\n",
      " 'Data Science' 'ETL Developer' 'Civil Engineer' 'Sales' 'ETL Developer'\n",
      " 'Testing' 'DevOps Engineer' 'Java Developer' 'ETL Developer' 'Sales'\n",
      " 'DevOps Engineer' 'Java Developer' 'Advocate' 'DotNet Developer' 'Sales'\n",
      " 'DevOps Engineer' 'Data Science' 'DevOps Engineer' 'Python Developer'\n",
      " 'HR' 'DevOps Engineer' 'Operations Manager' 'Business Analyst'\n",
      " 'Mechanical Engineer' 'Java Developer' 'Hadoop' 'ETL Developer' 'Testing'\n",
      " 'Business Analyst' 'Arts' 'Sales' 'SAP Developer' 'ETL Developer'\n",
      " 'DevOps Engineer' 'Java Developer' 'Python Developer' 'Python Developer'\n",
      " 'Java Developer' 'Operations Manager' 'Hadoop' 'Operations Manager'\n",
      " 'Automation Testing' 'Sales' 'Electrical Engineering' 'Data Science'\n",
      " 'Java Developer' 'PMO' 'Arts' 'Testing' 'Python Developer'\n",
      " 'Web Designing' 'Health and fitness' 'Operations Manager'\n",
      " 'Civil Engineer' 'Health and fitness' 'Network Security Engineer' 'HR'\n",
      " 'Testing' 'Testing' 'Mechanical Engineer' 'Java Developer' 'Testing'\n",
      " 'Operations Manager' 'Python Developer' 'Civil Engineer' 'SAP Developer'\n",
      " 'Web Designing' 'Testing' 'Arts' 'Data Science' 'DotNet Developer'\n",
      " 'Hadoop' 'Java Developer' 'Web Designing' 'Database' 'SAP Developer'\n",
      " 'PMO' 'Automation Testing' 'Web Designing' 'Automation Testing'\n",
      " 'Automation Testing' 'Data Science' 'Java Developer'\n",
      " 'Mechanical Engineer' 'Java Developer' 'Testing' 'Java Developer' 'HR'\n",
      " 'Testing' 'Advocate' 'HR' 'Network Security Engineer'\n",
      " 'Mechanical Engineer' 'Health and fitness' 'Advocate' 'SAP Developer'\n",
      " 'Mechanical Engineer' 'ETL Developer' 'Operations Manager'\n",
      " 'Civil Engineer' 'Automation Testing' 'PMO' 'SAP Developer'\n",
      " 'Mechanical Engineer' 'HR' 'DevOps Engineer' 'Network Security Engineer'\n",
      " 'Blockchain' 'Operations Manager' 'Testing' 'DevOps Engineer'\n",
      " 'Operations Manager' 'Testing' 'HR' 'Blockchain' 'Electrical Engineering'\n",
      " 'DevOps Engineer' 'Java Developer' 'Testing' 'Electrical Engineering'\n",
      " 'Arts' 'Business Analyst' 'Web Designing' 'Hadoop' 'SAP Developer'\n",
      " 'Operations Manager' 'Advocate' 'Python Developer' 'Blockchain'\n",
      " 'Data Science' 'DevOps Engineer' 'Hadoop' 'Blockchain' 'Blockchain'\n",
      " 'Arts' 'Python Developer' 'Sales' 'Java Developer' 'Operations Manager'\n",
      " 'Java Developer' 'Web Designing' 'Testing' 'Operations Manager'\n",
      " 'Electrical Engineering' 'Automation Testing' 'Network Security Engineer'\n",
      " 'Arts' 'Arts' 'Mechanical Engineer' 'PMO' 'SAP Developer'\n",
      " 'Network Security Engineer' 'Web Designing' 'Blockchain'\n",
      " 'Python Developer' 'Data Science' 'Python Developer' 'Python Developer'\n",
      " 'Database']\n"
     ]
    }
   ],
   "source": [
    "# le = LabelEncoder()\n",
    "# le.fit(df['Category'])\n",
    "y_pred_decoded = le.inverse_transform(yp)\n",
    "\n",
    "print(\"Predicted labels: \", y_pred_decoded)"
   ]
  },
  {
   "cell_type": "code",
   "execution_count": 26,
   "id": "7a26eaa9",
   "metadata": {},
   "outputs": [],
   "source": [
    "pickle.dump(clf,open('clf.pkl','wb'))\n",
    "pickle.dump(le,open('le.pkl','wb'))\n",
    "pickle.dump(cv,open('cv.pkl','wb'))"
   ]
  },
  {
   "cell_type": "code",
   "execution_count": 27,
   "id": "70a89f98",
   "metadata": {},
   "outputs": [],
   "source": [
    "loaded_model = pickle.load(open('clf.pkl','rb'))\n",
    "loaded_le = pickle.load(open('le.pkl','rb'))\n",
    "loaded_cv = pickle.load(open('cv.pkl','rb'))"
   ]
  },
  {
   "cell_type": "code",
   "execution_count": 36,
   "id": "a988b7b4",
   "metadata": {},
   "outputs": [
    {
     "name": "stdout",
     "output_type": "stream",
     "text": [
      "  (0, 652)\t50\n",
      "  (0, 1198)\t50\n"
     ]
    }
   ],
   "source": [
    "str = 50*\" I am a Java Developer \"\n",
    "c = loaded_cv.transform([str])\n",
    "print(c)"
   ]
  },
  {
   "cell_type": "code",
   "execution_count": 37,
   "id": "8e33ff60",
   "metadata": {},
   "outputs": [],
   "source": [
    "var = loaded_model.predict(c)"
   ]
  },
  {
   "cell_type": "code",
   "execution_count": 38,
   "id": "d8d9bd7e",
   "metadata": {},
   "outputs": [
    {
     "data": {
      "text/plain": [
       "array(['Java Developer'], dtype=object)"
      ]
     },
     "execution_count": 38,
     "metadata": {},
     "output_type": "execute_result"
    }
   ],
   "source": [
    "loaded_le.inverse_transform(var)"
   ]
  }
 ],
 "metadata": {
  "kernelspec": {
   "display_name": "Python 3 (ipykernel)",
   "language": "python",
   "name": "python3"
  },
  "language_info": {
   "codemirror_mode": {
    "name": "ipython",
    "version": 3
   },
   "file_extension": ".py",
   "mimetype": "text/x-python",
   "name": "python",
   "nbconvert_exporter": "python",
   "pygments_lexer": "ipython3",
   "version": "3.10.4"
  }
 },
 "nbformat": 4,
 "nbformat_minor": 5
}
